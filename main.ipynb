{
 "cells": [
  {
   "cell_type": "code",
   "execution_count": 1,
   "metadata": {},
   "outputs": [],
   "source": [
    "import pandas as pd"
   ]
  },
  {
   "cell_type": "code",
   "execution_count": 2,
   "metadata": {},
   "outputs": [
    {
     "data": {
      "text/html": [
       "<div>\n",
       "<style scoped>\n",
       "    .dataframe tbody tr th:only-of-type {\n",
       "        vertical-align: middle;\n",
       "    }\n",
       "\n",
       "    .dataframe tbody tr th {\n",
       "        vertical-align: top;\n",
       "    }\n",
       "\n",
       "    .dataframe thead th {\n",
       "        text-align: right;\n",
       "    }\n",
       "</style>\n",
       "<table border=\"1\" class=\"dataframe\">\n",
       "  <thead>\n",
       "    <tr style=\"text-align: right;\">\n",
       "      <th></th>\n",
       "      <th>map_id</th>\n",
       "      <th>judul</th>\n",
       "      <th>label</th>\n",
       "      <th>genre</th>\n",
       "    </tr>\n",
       "  </thead>\n",
       "  <tbody>\n",
       "    <tr>\n",
       "      <th>0</th>\n",
       "      <td>1</td>\n",
       "      <td>Surat Cinta - Vina Panduwinata</td>\n",
       "      <td>Bahagia</td>\n",
       "      <td>Pop</td>\n",
       "    </tr>\n",
       "    <tr>\n",
       "      <th>1</th>\n",
       "      <td>2</td>\n",
       "      <td>Ya Sudahlah - Bondan Prakoso, Fade2Black</td>\n",
       "      <td>Bahagia</td>\n",
       "      <td>Pop / Rock</td>\n",
       "    </tr>\n",
       "    <tr>\n",
       "      <th>2</th>\n",
       "      <td>3</td>\n",
       "      <td>Kenangan Terindah - SAMSONS</td>\n",
       "      <td>Sedih</td>\n",
       "      <td>Pop / Rock</td>\n",
       "    </tr>\n",
       "    <tr>\n",
       "      <th>3</th>\n",
       "      <td>4</td>\n",
       "      <td>Salam Rindu - Tipe-X</td>\n",
       "      <td>Bahagia</td>\n",
       "      <td>Pop</td>\n",
       "    </tr>\n",
       "    <tr>\n",
       "      <th>4</th>\n",
       "      <td>5</td>\n",
       "      <td>I Love U Bibeh - The Changcuters</td>\n",
       "      <td>Bahagia</td>\n",
       "      <td>Pop / Rock</td>\n",
       "    </tr>\n",
       "  </tbody>\n",
       "</table>\n",
       "</div>"
      ],
      "text/plain": [
       "   map_id                                     judul    label       genre\n",
       "0       1            Surat Cinta - Vina Panduwinata  Bahagia         Pop\n",
       "1       2  Ya Sudahlah - Bondan Prakoso, Fade2Black  Bahagia  Pop / Rock\n",
       "2       3               Kenangan Terindah - SAMSONS    Sedih  Pop / Rock\n",
       "3       4                      Salam Rindu - Tipe-X  Bahagia         Pop\n",
       "4       5          I Love U Bibeh - The Changcuters  Bahagia  Pop / Rock"
      ]
     },
     "execution_count": 2,
     "metadata": {},
     "output_type": "execute_result"
    }
   ],
   "source": [
    "df = pd.read_csv('kapsel_song_data/labels.csv')\n",
    "df.head()"
   ]
  },
  {
   "cell_type": "code",
   "execution_count": 3,
   "metadata": {},
   "outputs": [
    {
     "data": {
      "text/html": [
       "<div>\n",
       "<style scoped>\n",
       "    .dataframe tbody tr th:only-of-type {\n",
       "        vertical-align: middle;\n",
       "    }\n",
       "\n",
       "    .dataframe tbody tr th {\n",
       "        vertical-align: top;\n",
       "    }\n",
       "\n",
       "    .dataframe thead th {\n",
       "        text-align: right;\n",
       "    }\n",
       "</style>\n",
       "<table border=\"1\" class=\"dataframe\">\n",
       "  <thead>\n",
       "    <tr style=\"text-align: right;\">\n",
       "      <th></th>\n",
       "      <th>map_id</th>\n",
       "      <th>title</th>\n",
       "      <th>label</th>\n",
       "      <th>genre</th>\n",
       "      <th>artist</th>\n",
       "    </tr>\n",
       "  </thead>\n",
       "  <tbody>\n",
       "    <tr>\n",
       "      <th>0</th>\n",
       "      <td>1</td>\n",
       "      <td>Surat Cinta</td>\n",
       "      <td>Bahagia</td>\n",
       "      <td>Pop</td>\n",
       "      <td>Vina Panduwinata</td>\n",
       "    </tr>\n",
       "    <tr>\n",
       "      <th>1</th>\n",
       "      <td>2</td>\n",
       "      <td>Ya Sudahlah</td>\n",
       "      <td>Bahagia</td>\n",
       "      <td>Pop / Rock</td>\n",
       "      <td>Bondan Prakoso, Fade2Black</td>\n",
       "    </tr>\n",
       "    <tr>\n",
       "      <th>2</th>\n",
       "      <td>3</td>\n",
       "      <td>Kenangan Terindah</td>\n",
       "      <td>Sedih</td>\n",
       "      <td>Pop / Rock</td>\n",
       "      <td>SAMSONS</td>\n",
       "    </tr>\n",
       "    <tr>\n",
       "      <th>3</th>\n",
       "      <td>4</td>\n",
       "      <td>Salam Rindu</td>\n",
       "      <td>Bahagia</td>\n",
       "      <td>Pop</td>\n",
       "      <td>Tipe-X</td>\n",
       "    </tr>\n",
       "    <tr>\n",
       "      <th>4</th>\n",
       "      <td>5</td>\n",
       "      <td>I Love U Bibeh</td>\n",
       "      <td>Bahagia</td>\n",
       "      <td>Pop / Rock</td>\n",
       "      <td>The Changcuters</td>\n",
       "    </tr>\n",
       "  </tbody>\n",
       "</table>\n",
       "</div>"
      ],
      "text/plain": [
       "   map_id              title    label       genre                      artist\n",
       "0       1        Surat Cinta  Bahagia         Pop            Vina Panduwinata\n",
       "1       2        Ya Sudahlah  Bahagia  Pop / Rock  Bondan Prakoso, Fade2Black\n",
       "2       3  Kenangan Terindah    Sedih  Pop / Rock                     SAMSONS\n",
       "3       4        Salam Rindu  Bahagia         Pop                      Tipe-X\n",
       "4       5     I Love U Bibeh  Bahagia  Pop / Rock             The Changcuters"
      ]
     },
     "execution_count": 3,
     "metadata": {},
     "output_type": "execute_result"
    }
   ],
   "source": [
    "df['artist'] = df['judul'].apply(lambda x: x.split(' - '))\n",
    "df['judul'] = df['artist'].apply(lambda x: x[0])\n",
    "df['artist'] = df['artist'].apply(lambda x: x[1])\n",
    "# ganti colom judul jadi title\n",
    "df.rename(columns={'judul': 'title'}, inplace=True)\n",
    "df.head()"
   ]
  },
  {
   "cell_type": "code",
   "execution_count": 4,
   "metadata": {},
   "outputs": [],
   "source": [
    "lyrics = []\n",
    "for i in range(len(df)):\n",
    "     with open('kapsel_song_data/lyrics/full-{}.txt'.format(df[\"map_id\"][i]), 'r') as file:\n",
    "          lyrics.append(file.read())\n",
    "df['lyrics'] = lyrics\n",
    "del lyrics"
   ]
  },
  {
   "cell_type": "code",
   "execution_count": 5,
   "metadata": {},
   "outputs": [
    {
     "data": {
      "text/html": [
       "<div>\n",
       "<style scoped>\n",
       "    .dataframe tbody tr th:only-of-type {\n",
       "        vertical-align: middle;\n",
       "    }\n",
       "\n",
       "    .dataframe tbody tr th {\n",
       "        vertical-align: top;\n",
       "    }\n",
       "\n",
       "    .dataframe thead th {\n",
       "        text-align: right;\n",
       "    }\n",
       "</style>\n",
       "<table border=\"1\" class=\"dataframe\">\n",
       "  <thead>\n",
       "    <tr style=\"text-align: right;\">\n",
       "      <th></th>\n",
       "      <th>map_id</th>\n",
       "      <th>title</th>\n",
       "      <th>label</th>\n",
       "      <th>genre</th>\n",
       "      <th>artist</th>\n",
       "      <th>lyrics</th>\n",
       "    </tr>\n",
       "  </thead>\n",
       "  <tbody>\n",
       "    <tr>\n",
       "      <th>0</th>\n",
       "      <td>1</td>\n",
       "      <td>Surat Cinta</td>\n",
       "      <td>Bahagia</td>\n",
       "      <td>Pop</td>\n",
       "      <td>Vina Panduwinata</td>\n",
       "      <td>hari ini ku gembira melangkah di udara\\npak po...</td>\n",
       "    </tr>\n",
       "    <tr>\n",
       "      <th>1</th>\n",
       "      <td>2</td>\n",
       "      <td>Ya Sudahlah</td>\n",
       "      <td>Bahagia</td>\n",
       "      <td>Pop / Rock</td>\n",
       "      <td>Bondan Prakoso, Fade2Black</td>\n",
       "      <td>Ketika mimpimu yang begitu indah\\nTak pernah t...</td>\n",
       "    </tr>\n",
       "    <tr>\n",
       "      <th>2</th>\n",
       "      <td>3</td>\n",
       "      <td>Kenangan Terindah</td>\n",
       "      <td>Sedih</td>\n",
       "      <td>Pop / Rock</td>\n",
       "      <td>SAMSONS</td>\n",
       "      <td>Aku yang lemah tanpamu\\nAku yang rentan karena...</td>\n",
       "    </tr>\n",
       "    <tr>\n",
       "      <th>3</th>\n",
       "      <td>4</td>\n",
       "      <td>Salam Rindu</td>\n",
       "      <td>Bahagia</td>\n",
       "      <td>Pop</td>\n",
       "      <td>Tipe-X</td>\n",
       "      <td>Saat bulan purnama bersinar\\nTerangi malamku t...</td>\n",
       "    </tr>\n",
       "    <tr>\n",
       "      <th>4</th>\n",
       "      <td>5</td>\n",
       "      <td>I Love U Bibeh</td>\n",
       "      <td>Bahagia</td>\n",
       "      <td>Pop / Rock</td>\n",
       "      <td>The Changcuters</td>\n",
       "      <td>Biar kata nenek sihir\\nBagiku kau Britney Spea...</td>\n",
       "    </tr>\n",
       "  </tbody>\n",
       "</table>\n",
       "</div>"
      ],
      "text/plain": [
       "   map_id              title    label       genre                      artist  \\\n",
       "0       1        Surat Cinta  Bahagia         Pop            Vina Panduwinata   \n",
       "1       2        Ya Sudahlah  Bahagia  Pop / Rock  Bondan Prakoso, Fade2Black   \n",
       "2       3  Kenangan Terindah    Sedih  Pop / Rock                     SAMSONS   \n",
       "3       4        Salam Rindu  Bahagia         Pop                      Tipe-X   \n",
       "4       5     I Love U Bibeh  Bahagia  Pop / Rock             The Changcuters   \n",
       "\n",
       "                                              lyrics  \n",
       "0  hari ini ku gembira melangkah di udara\\npak po...  \n",
       "1  Ketika mimpimu yang begitu indah\\nTak pernah t...  \n",
       "2  Aku yang lemah tanpamu\\nAku yang rentan karena...  \n",
       "3  Saat bulan purnama bersinar\\nTerangi malamku t...  \n",
       "4  Biar kata nenek sihir\\nBagiku kau Britney Spea...  "
      ]
     },
     "execution_count": 5,
     "metadata": {},
     "output_type": "execute_result"
    }
   ],
   "source": [
    "df.head()"
   ]
  },
  {
   "cell_type": "code",
   "execution_count": 6,
   "metadata": {},
   "outputs": [
    {
     "name": "stderr",
     "output_type": "stream",
     "text": [
      "/Library/Frameworks/Python.framework/Versions/3.12/lib/python3.12/site-packages/tqdm/auto.py:21: TqdmWarning: IProgress not found. Please update jupyter and ipywidgets. See https://ipywidgets.readthedocs.io/en/stable/user_install.html\n",
      "  from .autonotebook import tqdm as notebook_tqdm\n",
      "/Library/Frameworks/Python.framework/Versions/3.12/lib/python3.12/site-packages/huggingface_hub/file_download.py:1132: FutureWarning: `resume_download` is deprecated and will be removed in version 1.0.0. Downloads always resume when possible. If you want to force a new download, use `force_download=True`.\n",
      "  warnings.warn(\n"
     ]
    }
   ],
   "source": [
    "from pymilvus import model\n",
    "\n",
    "sentence_transformer_ef = model.dense.SentenceTransformerEmbeddingFunction(\n",
    "    model_name='all-MiniLM-L6-v2', # Specify the model name\n",
    "    device='cpu' # Specify the device to use, e.g., 'cpu' or 'cuda:0'\n",
    ")"
   ]
  },
  {
   "cell_type": "code",
   "execution_count": 7,
   "metadata": {},
   "outputs": [
    {
     "name": "stdout",
     "output_type": "stream",
     "text": [
      "Dim: 384 Shape: (384,)\n"
     ]
    }
   ],
   "source": [
    "vector = sentence_transformer_ef.encode_documents(df['lyrics'].tolist())\n",
    "\n",
    "print(\"Dim:\", sentence_transformer_ef.dim , \"Shape:\", vector[0].shape)"
   ]
  },
  {
   "cell_type": "code",
   "execution_count": 8,
   "metadata": {},
   "outputs": [
    {
     "name": "stdout",
     "output_type": "stream",
     "text": [
      "Data has 340 entities, each with fields:  dict_keys(['id', 'vector', 'title', 'artist', 'label', 'genre', 'lyric'])\n",
      "Vector dim: 384\n"
     ]
    }
   ],
   "source": [
    "data = [\n",
    "     {\n",
    "          \"id\": df[\"map_id\"][i],\n",
    "          \"vector\": vector[i].tolist(),\n",
    "          \"title\": df[\"title\"][i],\n",
    "          \"artist\": df[\"artist\"][i],\n",
    "          \"label\": df[\"label\"][i],\n",
    "          \"genre\": df[\"genre\"][i],\n",
    "          \"lyric\": df[\"lyrics\"][i],\n",
    "     }\n",
    "     for i in range(len(df))\n",
    "]\n",
    "\n",
    "print(\"Data has\", len(data), \"entities, each with fields: \", data[0].keys())\n",
    "print(\"Vector dim:\", len(data[0][\"vector\"]))"
   ]
  },
  {
   "cell_type": "code",
   "execution_count": 9,
   "metadata": {},
   "outputs": [
    {
     "name": "stderr",
     "output_type": "stream",
     "text": [
      "huggingface/tokenizers: The current process just got forked, after parallelism has already been used. Disabling parallelism to avoid deadlocks...\n",
      "To disable this warning, you can either:\n",
      "\t- Avoid using `tokenizers` before the fork if possible\n",
      "\t- Explicitly set the environment variable TOKENIZERS_PARALLELISM=(true | false)\n"
     ]
    }
   ],
   "source": [
    "from pymilvus import MilvusClient\n",
    "\n",
    "client = MilvusClient(\"milvus_demo.db\")\n"
   ]
  },
  {
   "cell_type": "code",
   "execution_count": 10,
   "metadata": {},
   "outputs": [],
   "source": [
    "client.create_collection(\n",
    "    collection_name=\"song_lyrics\",\n",
    "    dimension=384,  # The vectors we will use in this demo has 768 dimensions\n",
    ")"
   ]
  },
  {
   "cell_type": "code",
   "execution_count": 11,
   "metadata": {},
   "outputs": [
    {
     "name": "stdout",
     "output_type": "stream",
     "text": [
      "{'insert_count': 340, 'ids': [1, 2, 3, 4, 5, 6, 7, 8, 9, 10, 11, 12, 13, 14, 15, 16, 17, 18, 19, 20, 21, 22, 23, 24, 25, 26, 27, 28, 29, 30, 31, 32, 33, 34, 35, 36, 37, 38, 39, 40, 41, 42, 43, 44, 45, 46, 47, 48, 49, 50, 51, 52, 53, 54, 55, 56, 57, 58, 59, 60, 61, 62, 63, 64, 65, 66, 67, 68, 69, 70, 71, 72, 73, 74, 75, 76, 77, 78, 79, 80, 81, 82, 83, 84, 85, 86, 87, 88, 89, 90, 91, 92, 93, 94, 95, 96, 97, 98, 99, 100, 101, 102, 103, 104, 105, 106, 107, 108, 109, 110, 111, 112, 113, 114, 115, 116, 117, 118, 119, 120, 121, 122, 123, 124, 125, 126, 127, 128, 129, 130, 131, 132, 133, 134, 135, 136, 137, 138, 139, 140, 141, 142, 143, 144, 145, 146, 147, 148, 149, 150, 151, 152, 153, 154, 155, 156, 157, 158, 159, 160, 161, 162, 163, 164, 165, 166, 167, 168, 169, 170, 171, 172, 173, 174, 175, 176, 177, 178, 179, 180, 181, 182, 183, 184, 185, 186, 187, 188, 189, 190, 191, 192, 193, 194, 195, 196, 197, 198, 199, 200, 201, 202, 203, 204, 205, 206, 207, 208, 209, 210, 211, 212, 213, 214, 215, 216, 217, 218, 219, 220, 221, 222, 223, 224, 225, 226, 227, 228, 229, 230, 231, 232, 233, 234, 235, 236, 237, 238, 239, 240, 241, 242, 243, 244, 245, 246, 247, 248, 249, 250, 251, 252, 253, 254, 255, 256, 257, 258, 259, 260, 261, 262, 263, 264, 265, 266, 267, 268, 269, 270, 271, 272, 273, 274, 275, 276, 277, 278, 279, 280, 281, 282, 283, 284, 285, 286, 287, 288, 289, 290, 291, 292, 293, 294, 295, 296, 297, 298, 299, 300, 301, 302, 303, 304, 305, 306, 307, 308, 309, 310, 311, 312, 313, 314, 315, 316, 317, 318, 319, 320, 321, 322, 323, 324, 325, 326, 327, 328, 329, 330, 331, 332, 333, 334, 335, 336, 337, 338, 339, 340], 'cost': 0}\n"
     ]
    }
   ],
   "source": [
    "res = client.insert(collection_name=\"song_lyrics\", data=data)\n",
    "\n",
    "print(res)"
   ]
  },
  {
   "cell_type": "code",
   "execution_count": 12,
   "metadata": {},
   "outputs": [],
   "source": [
    "import time"
   ]
  },
  {
   "cell_type": "code",
   "execution_count": 13,
   "metadata": {},
   "outputs": [
    {
     "name": "stdout",
     "output_type": "stream",
     "text": [
      "['vector']\n"
     ]
    }
   ],
   "source": [
    "res = client.list_indexes(collection_name=\"song_lyrics\")\n",
    "     \n",
    "print(res)"
   ]
  },
  {
   "cell_type": "markdown",
   "metadata": {},
   "source": [
    "## Query 1"
   ]
  },
  {
   "cell_type": "code",
   "execution_count": 14,
   "metadata": {},
   "outputs": [
    {
     "name": "stdout",
     "output_type": "stream",
     "text": [
      "Time: 0.008840322494506836\n",
      "data: [\"{'id': 127, 'title': 'Cinta', 'artist': 'Naura ayu'}\"] , extra_info: {'cost': 0}\n"
     ]
    }
   ],
   "source": [
    "start_time = time.time()\n",
    "res = client.query(\n",
    "    collection_name=\"song_lyrics\",\n",
    "    filter='title like \"Cinta\"',\n",
    "    output_fields=[\"artist\",\"title\"],\n",
    "    limit=3\n",
    ")\n",
    "end_time = time.time()\n",
    "print(\"Time:\", end_time - start_time)\n",
    "\n",
    "print(res)"
   ]
  },
  {
   "cell_type": "code",
   "execution_count": 15,
   "metadata": {},
   "outputs": [
    {
     "name": "stdout",
     "output_type": "stream",
     "text": [
      "Time: 0.0024089813232421875\n",
      "data: [\"{'id': 127, 'title': 'Cinta', 'artist': 'Naura ayu'}\"] , extra_info: {'cost': 0}\n"
     ]
    }
   ],
   "source": [
    "search_params_optimized = {\"metric_type\": \"L2\", \"params\": {\"ef\": 100}}\n",
    "\n",
    "start_time = time.time()\n",
    "res = client.query(\n",
    "    collection_name=\"song_lyrics\",\n",
    "    filter='title like \"Cinta\"',\n",
    "    output_fields=[\"artist\",\"title\"],\n",
    "    limit=3,\n",
    "    params=search_params_optimized\n",
    ")\n",
    "end_time = time.time()\n",
    "print(\"Time:\", end_time - start_time)\n",
    "\n",
    "print(res)"
   ]
  },
  {
   "cell_type": "markdown",
   "metadata": {},
   "source": [
    "## Query 2"
   ]
  },
  {
   "cell_type": "code",
   "execution_count": 16,
   "metadata": {},
   "outputs": [
    {
     "name": "stdout",
     "output_type": "stream",
     "text": [
      "Search time: 0.020437002182006836\n",
      "{'id': 72, 'distance': 0.3156123161315918, 'entity': {'title': 'Jauh mimpiku', 'artist': 'peterpan', 'genre': 'pop'}}\n"
     ]
    }
   ],
   "source": [
    "query_vectors = sentence_transformer_ef.encode_queries([\"Mimpi\"])\n",
    "\n",
    "start_time = time.time()\n",
    "res = client.search(\n",
    "    collection_name=\"song_lyrics\",  # target collection\n",
    "    data=query_vectors,  # query vectors\n",
    "    limit=5,  # number of returned entities\n",
    "    output_fields=[\"title\",\"artist\",\"genre\"],  # specifies fields to be returned\n",
    ")\n",
    "end_time = time.time()\n",
    "print(\"Search time:\", end_time - start_time)\n",
    "\n",
    "for i in res[0]:\n",
    "     print(i)"
   ]
  },
  {
   "cell_type": "markdown",
   "metadata": {},
   "source": [
    "### setelah optimasi"
   ]
  },
  {
   "cell_type": "code",
   "execution_count": 17,
   "metadata": {},
   "outputs": [
    {
     "name": "stdout",
     "output_type": "stream",
     "text": [
      "Search time: 0.001096963882446289\n",
      "{'id': 72, 'distance': 0.3156123161315918, 'entity': {'title': 'Jauh mimpiku', 'artist': 'peterpan', 'genre': 'pop'}}\n"
     ]
    }
   ],
   "source": [
    "search_params_optimized = {\"metric_type\": \"L2\", \"params\": {\"ef\": 100}}\n",
    "\n",
    "query_vectors = sentence_transformer_ef.encode_queries([\"Mimpi\"])\n",
    "\n",
    "start_time = time.time()\n",
    "res = client.search(\n",
    "    collection_name=\"song_lyrics\",  # target collection\n",
    "    data=query_vectors,  # query vectors\n",
    "    limit=5,  # number of returned entities\n",
    "    output_fields=[\"title\",\"artist\",\"genre\"],  # specifies fields to be returned\n",
    "    params=search_params_optimized\n",
    ")\n",
    "end_time = time.time()\n",
    "print(\"Search time:\", end_time - start_time)\n",
    "\n",
    "for i in res[0]:\n",
    "     print(i)"
   ]
  },
  {
   "cell_type": "markdown",
   "metadata": {},
   "source": [
    "## Query 3"
   ]
  },
  {
   "cell_type": "code",
   "execution_count": 18,
   "metadata": {},
   "outputs": [
    {
     "name": "stdout",
     "output_type": "stream",
     "text": [
      "Search time: 0.005202054977416992\n",
      "{'id': 73, 'distance': 0.29455041885375977, 'entity': {'title': 'Walau habis terang', 'artist': 'peterpan', 'genre': 'pop'}}\n"
     ]
    }
   ],
   "source": [
    "query_vectors = sentence_transformer_ef.encode_queries([\"pergi jauh\"])\n",
    "\n",
    "start_time = time.time()\n",
    "res = client.search(\n",
    "    collection_name=\"song_lyrics\",  # target collection\n",
    "    data=query_vectors,  # query vectors\n",
    "    filter=\"genre like '%pop%'\",  # filter condition\n",
    "    limit=5,  # number of returned entities\n",
    "    output_fields=[\"title\",\"artist\",\"genre\"],  # specifies fields to be returned\n",
    ")\n",
    "end_time = time.time()\n",
    "print(\"Search time:\", end_time - start_time)\n",
    "\n",
    "for i in res[0]:\n",
    "     print(i)"
   ]
  },
  {
   "cell_type": "markdown",
   "metadata": {},
   "source": [
    "### setelah optimasi"
   ]
  },
  {
   "cell_type": "code",
   "execution_count": 19,
   "metadata": {},
   "outputs": [
    {
     "name": "stdout",
     "output_type": "stream",
     "text": [
      "Search time: 0.0017898082733154297\n",
      "{'id': 73, 'distance': 0.29455041885375977, 'entity': {'title': 'Walau habis terang', 'artist': 'peterpan', 'genre': 'pop'}}\n"
     ]
    }
   ],
   "source": [
    "search_params_optimized = {\"metric_type\": \"L2\", \"params\": {\"ef\": 100}}\n",
    "\n",
    "query_vectors = sentence_transformer_ef.encode_queries([\"pergi jauh\"])\n",
    "\n",
    "start_time = time.time()\n",
    "res = client.search(\n",
    "    collection_name=\"song_lyrics\",  # target collection\n",
    "    data=query_vectors,  # query vectors\n",
    "    filter=\"genre like '%pop%'\",  # filter condition\n",
    "    limit=5,  # number of returned entities\n",
    "    output_fields=[\"title\",\"artist\",\"genre\"],  # specifies fields to be returned\n",
    "    params=search_params_optimized\n",
    ")\n",
    "end_time = time.time()\n",
    "print(\"Search time:\", end_time - start_time)\n",
    "\n",
    "for i in res[0]:\n",
    "     print(i)"
   ]
  },
  {
   "cell_type": "markdown",
   "metadata": {},
   "source": [
    "## Query 4"
   ]
  },
  {
   "cell_type": "code",
   "execution_count": 28,
   "metadata": {},
   "outputs": [
    {
     "name": "stdout",
     "output_type": "stream",
     "text": [
      "Search time: 0.05866122245788574\n",
      "{'id': 329, 'distance': 0.2360372692346573, 'entity': {'title': 'Penantian Berharga', 'artist': 'Rizky Febian', 'label': 'Bahagia'}}\n",
      "{'id': 225, 'distance': 0.23331129550933838, 'entity': {'title': 'Selamat Pagi', 'artist': 'RAN', 'label': 'Bahagia'}}\n"
     ]
    }
   ],
   "source": [
    "query_vectors = sentence_transformer_ef.encode_queries([\"semangat\"])\n",
    "\n",
    "start_time = time.time()\n",
    "res = client.search(\n",
    "    collection_name=\"song_lyrics\",  # target collection\n",
    "    data=query_vectors,  # query vectors\n",
    "    filter=\"label like 'Bahagia'\",  # filter condition\n",
    "    limit=10,  # number of returned entities\n",
    "    output_fields=[\"title\",\"artist\",\"label\"],  # specifies fields to be returned\n",
    ")\n",
    "end_time = time.time()\n",
    "print(\"Search time:\", end_time - start_time)\n",
    "\n",
    "for i in res[0]:\n",
    "     print(i)"
   ]
  },
  {
   "cell_type": "code",
   "execution_count": 21,
   "metadata": {},
   "outputs": [
    {
     "name": "stdout",
     "output_type": "stream",
     "text": [
      "Search time: 0.0018019676208496094\n",
      "{'id': 329, 'distance': 0.2360372692346573, 'entity': {'title': 'Penantian Berharga', 'artist': 'Rizky Febian', 'label': 'Bahagia'}}\n",
      "{'id': 225, 'distance': 0.23331129550933838, 'entity': {'title': 'Selamat Pagi', 'artist': 'RAN', 'label': 'Bahagia'}}\n"
     ]
    }
   ],
   "source": [
    "search_params_optimized = {\"metric_type\": \"Cosine\", \"params\": {\"ef\": 100}}\n",
    "\n",
    "query_vectors = sentence_transformer_ef.encode_queries([\"semangat\"])\n",
    "\n",
    "start_time = time.time()\n",
    "res = client.search(\n",
    "    collection_name=\"song_lyrics\",  # target collection\n",
    "    data=query_vectors,  # query vectors\n",
    "    filter=\"label like 'Bahagia'\",  # filter condition\n",
    "    limit=10,  # number of returned entities\n",
    "    output_fields=[\"title\",\"artist\",\"label\"],  # specifies fields to be returned\n",
    "    params=search_params_optimized\n",
    ")\n",
    "end_time = time.time()\n",
    "print(\"Search time:\", end_time - start_time)\n",
    "\n",
    "for i in res[0]:\n",
    "     print(i)"
   ]
  },
  {
   "cell_type": "markdown",
   "metadata": {},
   "source": [
    "## Query 5"
   ]
  },
  {
   "cell_type": "code",
   "execution_count": 22,
   "metadata": {},
   "outputs": [
    {
     "name": "stdout",
     "output_type": "stream",
     "text": [
      "Search time: 0.0017261505126953125\n",
      "{'id': 316, 'distance': 0.3986392915248871, 'entity': {'title': 'Risalah Hati', 'artist': 'Dewa', 'genre': 'Pop'}}\n"
     ]
    }
   ],
   "source": [
    "query_vectors = sentence_transformer_ef.encode_queries([\"lagu tentang cinta\"])\n",
    "\n",
    "start_time = time.time()\n",
    "res = client.search(\n",
    "     collection_name=\"song_lyrics\",  # target collection\n",
    "     data=query_vectors,\n",
    "     filter=\"artist like 'Dewa%'\",\n",
    "     limit=5,  # number of returned entities\n",
    "     output_fields=[\"title\",\"artist\",\"genre\"],  # specifies fields to be returned\n",
    "     )\n",
    "end_time = time.time()\n",
    "print(\"Search time:\", end_time - start_time)\n",
    "\n",
    "for i in res[0]:\n",
    "     print(i)"
   ]
  },
  {
   "cell_type": "markdown",
   "metadata": {},
   "source": [
    "### setelah optimasi"
   ]
  },
  {
   "cell_type": "code",
   "execution_count": 23,
   "metadata": {},
   "outputs": [
    {
     "name": "stdout",
     "output_type": "stream",
     "text": [
      "Search time: 0.0015480518341064453\n",
      "{'id': 316, 'distance': 0.3986392915248871, 'entity': {'title': 'Risalah Hati', 'artist': 'Dewa', 'genre': 'Pop'}}\n"
     ]
    }
   ],
   "source": [
    "search_params_optimized = {\"metric_type\": \"L2\", \"params\": {\"ef\": 100}}\n",
    "query_vectors = sentence_transformer_ef.encode_queries([\"lagu tentang cinta\"])\n",
    "\n",
    "start_time = time.time()\n",
    "res = client.search(\n",
    "     collection_name=\"song_lyrics\",  # target collection\n",
    "     data=query_vectors,\n",
    "     filter=\"artist like 'Dewa%'\",\n",
    "     limit=5,  # number of returned entities\n",
    "     output_fields=[\"title\",\"artist\",\"genre\"],  # specifies fields to be returned\n",
    "     params=search_params_optimized\n",
    "     )\n",
    "end_time = time.time()\n",
    "print(\"Search time:\", end_time - start_time)\n",
    "\n",
    "for i in res[0]:\n",
    "     print(i)"
   ]
  },
  {
   "cell_type": "markdown",
   "metadata": {},
   "source": [
    "## Query 6"
   ]
  },
  {
   "cell_type": "code",
   "execution_count": 24,
   "metadata": {},
   "outputs": [
    {
     "name": "stdout",
     "output_type": "stream",
     "text": [
      "Search time: 0.002499103546142578\n",
      "{'id': 78, 'distance': 0.3532578647136688, 'entity': {'title': 'Lagu Santai', 'artist': 'steven & Coconuttreez', 'lyric': 'Cinta yang sebenarnya indah sekali, yeah\\nKadang menipu dan bikin sakit hati, yeah, yeah\\nTapi lihatlah burung tetap bernyanyi, yeah\\nTerlalu indah untuk ditangisi, yee\\n\\nNyanyi lagu pantai\\nNyanyi lagu santai, yeah\\nNyanyi lagu pantai\\nMari kita santai, yee\\n\\nCantik, mengejar sesuatu yang belum pasti, yeah\\nKadang kau gagal lalu frustasi, yeah, yeah\\nTapi hidup yang indah cuma sekali, yeah\\nTerlalu singkat untuk ditangisi, yee\\n\\nNyanyi lagu pantai\\nNyanyi lagu santai, yeah\\nNyanyi lagu pantai\\nMari kita santai, yee\\nNyanyi lagu pantai\\nNyanyi lagu santai, yeah\\nNyanyi lagu pantai\\nMari kita santai, yee\\nYee, woo-yeah\\nYeah\\n\\nNyanyi lagu pantai\\nNyanyi lagu santai, yeah\\nNyanyi lagu pantai\\nMari kita santai, yee\\nNyanyi lagu pantai\\nNyanyi lagu santai, yeah\\nNyanyi lagu pantai\\nMari kita santai, yee\\nHuwoo-yo, huwoo-yo, huwoo-yoyoyo\\nHuwoo-yo, huwoo, santailah, yeah\\n\\nKalau kau frustasi\\nKarna kurang santai, yeah\\nKaupun sakit hati\\nKarna kurang santai, yee\\nHuwoo-yo, huwoo-yo, huwoo-yoyoyo\\nHuwoo-yo, huwoo, santailah'}}\n",
      "{'id': 71, 'distance': 0.28215882182121277, 'entity': {'title': 'Aku dan bintang', 'artist': 'peterpan', 'lyric': 'Lihat ke langit luas\\nDan semua musim terus berganti\\nTetap bermain awan\\nMerangkai mimpi dengan khayalku\\nSelalu bermimpi dengan hariku\\nDan pernah kaulihat bintang\\nBersinar putih penuh harapan\\nTangan halusnya terbuka\\nCoba temani, dekati aku\\nSelalu terangi gelap malamku\\n\\nDan rasakan semua bintang\\nMemanggil tawamu terbang ke atas\\nTinggalkan semua\\nHanya kita dan bintang\\n\\nLintasi langit luas\\nBersama musim terus berganti\\nTetap bermain awan\\nMerangkai mimpi dengan khayalku\\nSelalu bermimpi dengan hariku\\nDan pernah kaulihat bintang\\nBersinar putih penuh harapan\\nTangan halusnya terbuka\\nCoba temani, dekati aku\\nSelalu terangi gelap malamku\\n\\nDan rasakan semua bintang\\nMemanggil tawamu terbang ke atas\\nTinggalkan semua\\nHanya kita dan bintang\\n\\nDan rasakan semua bintang\\nMemanggil tawamu terbang ke atas\\nTinggalkan semua\\nHanya kita dan bintang\\nYang terindah meski terlupakan\\nDan selalu terangi dunia\\nMereka-reka\\nHanya aku dan bintang'}}\n",
      "{'id': 75, 'distance': 0.19634601473808289, 'entity': {'title': 'Cobalah mengerti', 'artist': 'peterpan', 'lyric': 'Aku takkan pernah berhenti\\nAkan terus memahami\\nMasih terus berfikir\\nBila harus memaksa\\nAtau berdarah untukmu\\nApa pun itu asal kau mencoba menerimaku\\n\\nDan kamu hanya perlu terima\\nDan tak harus memahami\\nDan tak harus berfikir\\nHanya perlu mengerti\\nAku bernafas untukmu\\nJadi, tetaplah di sini dan mulai menerimaku, oh\\n\\nCobalah mengerti\\nSemua ini mencari arti\\nSelamanya takkan berhenti\\nInginkan, rasakan\\nRindu ini menjadi satu\\nBiar waktu yang memisahkan\\n\\nOh-oh-oh, oh\\nOh-oh-oh-oh\\nOh-oh-oh-oh\\nCobalah mengerti\\nSemua ini mencari arti\\nSelamanya takkan berhenti\\nInginkan, rasakan\\nRindu ini menjadi satu\\nBiar waktu yang memisahkan\\n\\nCobalah mengerti\\nSemua ini mencari arti\\nSelamanya takkan berhenti\\nInginkan, rasakan\\nRindu ini menjadi satu\\nBiar waktu yang memisahkan'}}\n"
     ]
    }
   ],
   "source": [
    "query_vectors = sentence_transformer_ef.encode_queries([\"lagu perjalanan\"])\n",
    "\n",
    "start_time = time.time()\n",
    "res = client.search(\n",
    "     collection_name=\"song_lyrics\",  # target collection\n",
    "     data=query_vectors,\n",
    "     filter=\"genre like '%pop%' and label like 'Bahagia'\",\n",
    "     limit=20,  # number of returned entities\n",
    "     output_fields=[\"title\",\"artist\",\"lyric\"],  # specifies fields to be returned\n",
    "     )\n",
    "end_time = time.time()\n",
    "print(\"Search time:\", end_time - start_time)\n",
    "\n",
    "for i in res[0]:\n",
    "     print(i)"
   ]
  },
  {
   "cell_type": "code",
   "execution_count": 25,
   "metadata": {},
   "outputs": [
    {
     "name": "stdout",
     "output_type": "stream",
     "text": [
      "Search time: 0.002336740493774414\n",
      "{'id': 78, 'distance': 0.3532578647136688, 'entity': {'title': 'Lagu Santai', 'artist': 'steven & Coconuttreez', 'lyric': 'Cinta yang sebenarnya indah sekali, yeah\\nKadang menipu dan bikin sakit hati, yeah, yeah\\nTapi lihatlah burung tetap bernyanyi, yeah\\nTerlalu indah untuk ditangisi, yee\\n\\nNyanyi lagu pantai\\nNyanyi lagu santai, yeah\\nNyanyi lagu pantai\\nMari kita santai, yee\\n\\nCantik, mengejar sesuatu yang belum pasti, yeah\\nKadang kau gagal lalu frustasi, yeah, yeah\\nTapi hidup yang indah cuma sekali, yeah\\nTerlalu singkat untuk ditangisi, yee\\n\\nNyanyi lagu pantai\\nNyanyi lagu santai, yeah\\nNyanyi lagu pantai\\nMari kita santai, yee\\nNyanyi lagu pantai\\nNyanyi lagu santai, yeah\\nNyanyi lagu pantai\\nMari kita santai, yee\\nYee, woo-yeah\\nYeah\\n\\nNyanyi lagu pantai\\nNyanyi lagu santai, yeah\\nNyanyi lagu pantai\\nMari kita santai, yee\\nNyanyi lagu pantai\\nNyanyi lagu santai, yeah\\nNyanyi lagu pantai\\nMari kita santai, yee\\nHuwoo-yo, huwoo-yo, huwoo-yoyoyo\\nHuwoo-yo, huwoo, santailah, yeah\\n\\nKalau kau frustasi\\nKarna kurang santai, yeah\\nKaupun sakit hati\\nKarna kurang santai, yee\\nHuwoo-yo, huwoo-yo, huwoo-yoyoyo\\nHuwoo-yo, huwoo, santailah'}}\n",
      "{'id': 71, 'distance': 0.28215882182121277, 'entity': {'title': 'Aku dan bintang', 'artist': 'peterpan', 'lyric': 'Lihat ke langit luas\\nDan semua musim terus berganti\\nTetap bermain awan\\nMerangkai mimpi dengan khayalku\\nSelalu bermimpi dengan hariku\\nDan pernah kaulihat bintang\\nBersinar putih penuh harapan\\nTangan halusnya terbuka\\nCoba temani, dekati aku\\nSelalu terangi gelap malamku\\n\\nDan rasakan semua bintang\\nMemanggil tawamu terbang ke atas\\nTinggalkan semua\\nHanya kita dan bintang\\n\\nLintasi langit luas\\nBersama musim terus berganti\\nTetap bermain awan\\nMerangkai mimpi dengan khayalku\\nSelalu bermimpi dengan hariku\\nDan pernah kaulihat bintang\\nBersinar putih penuh harapan\\nTangan halusnya terbuka\\nCoba temani, dekati aku\\nSelalu terangi gelap malamku\\n\\nDan rasakan semua bintang\\nMemanggil tawamu terbang ke atas\\nTinggalkan semua\\nHanya kita dan bintang\\n\\nDan rasakan semua bintang\\nMemanggil tawamu terbang ke atas\\nTinggalkan semua\\nHanya kita dan bintang\\nYang terindah meski terlupakan\\nDan selalu terangi dunia\\nMereka-reka\\nHanya aku dan bintang'}}\n",
      "{'id': 75, 'distance': 0.19634601473808289, 'entity': {'title': 'Cobalah mengerti', 'artist': 'peterpan', 'lyric': 'Aku takkan pernah berhenti\\nAkan terus memahami\\nMasih terus berfikir\\nBila harus memaksa\\nAtau berdarah untukmu\\nApa pun itu asal kau mencoba menerimaku\\n\\nDan kamu hanya perlu terima\\nDan tak harus memahami\\nDan tak harus berfikir\\nHanya perlu mengerti\\nAku bernafas untukmu\\nJadi, tetaplah di sini dan mulai menerimaku, oh\\n\\nCobalah mengerti\\nSemua ini mencari arti\\nSelamanya takkan berhenti\\nInginkan, rasakan\\nRindu ini menjadi satu\\nBiar waktu yang memisahkan\\n\\nOh-oh-oh, oh\\nOh-oh-oh-oh\\nOh-oh-oh-oh\\nCobalah mengerti\\nSemua ini mencari arti\\nSelamanya takkan berhenti\\nInginkan, rasakan\\nRindu ini menjadi satu\\nBiar waktu yang memisahkan\\n\\nCobalah mengerti\\nSemua ini mencari arti\\nSelamanya takkan berhenti\\nInginkan, rasakan\\nRindu ini menjadi satu\\nBiar waktu yang memisahkan'}}\n"
     ]
    }
   ],
   "source": [
    "search_params_optimized = {\"metric_type\": \"L2\", \"params\": {\"ef\": 100}}\n",
    "query_vectors = sentence_transformer_ef.encode_queries([\"lagu perjalanan\"])\n",
    "\n",
    "start_time = time.time()\n",
    "res = client.search(\n",
    "     collection_name=\"song_lyrics\",  # target collection\n",
    "     data=query_vectors,\n",
    "     filter=\"genre like '%pop%' and label like 'Bahagia'\",\n",
    "     limit=20,  # number of returned entities\n",
    "     output_fields=[\"title\",\"artist\",\"lyric\"],  # specifies fields to be returned\n",
    "     params=search_params_optimized\n",
    "     )\n",
    "end_time = time.time()\n",
    "print(\"Search time:\", end_time - start_time)\n",
    "\n",
    "for i in res[0]:\n",
    "     print(i)"
   ]
  },
  {
   "cell_type": "markdown",
   "metadata": {},
   "source": [
    "## Query 7"
   ]
  },
  {
   "cell_type": "code",
   "execution_count": 26,
   "metadata": {},
   "outputs": [
    {
     "name": "stdout",
     "output_type": "stream",
     "text": [
      "Search time: 0.0035881996154785156\n",
      "{'id': 50, 'distance': 0.4115599989891052, 'entity': {'title': 'Monokrom', 'artist': 'Tulus', 'lyric': \"Lembaran foto hitam-putih\\nAku coba ingat lagi warna bajumu kala itu\\nKali pertama di hidupku\\nManusia lain memelukku\\nLembaran foto hitam-putih\\nAku coba ingat lagi wangi rumah di sore itu\\nKue cokelat, balon warna-warni\\nPesta hari ulang tahunku\\nDi mana pun kalian berada\\nKukirimkan terima kasih\\nUntuk warna dalam hidupku dan banyak kenangan indah\\nKau melukis aku\\nLembaran foto hitam-putih\\nKembali teringat malam, kuhitung-hitung bintang\\nSaat mataku sulit tidur, mm-mm\\nSuaramu buatku lelap, mm-mm\\nDi mana pun kalian berada\\nKukirimkan terima kasih\\nUntuk warna dalam hidupku dan banyak kenangan indah\\nKau melukis aku\\nKita tak pernah tahu\\nBerapa lama kita diberi waktu\\nJika aku pergi lebih dulu, jangan lupakan aku\\nIni lagu untukmu, ungkapan terima kasihku\\nLembar monokrom hitam-putih\\nAku coba ingat warna demi warna di hidupku\\nTak akan ku mengenal cinta\\nBila bukan kar'na hati baikmu\"}}\n",
      "{'id': 244, 'distance': 0.3353287875652313, 'entity': {'title': 'Dunia Maya', 'artist': 'Ari Lasso', 'lyric': 'Bertanya tanya tentang dirinya\\nKu cari-cari di dunia maya\\nKupandang profilenya kubaca statusnya\\nIngin aku mengenalnya\\n\\nAku berhasil menjadi temannya\\nWalau sebatas di social media\\nAku terbawa imaji tentangnya\\nCitra yang dibuatnya\\n\\nAku merasa jatuh cinta padanya\\nMeski tak pernah berjumpa\\nIngin rasanya ku memiliki dirinya\\nDalam dunia nyata\\nSeutuhnya sesungguhnya selamanya\\n\\nBertubi-tubi komentar di timeline nya\\nAku tak suka panas aku jadinya\\nAku cemburu terbakar hatiku\\nHilang sudah logika\\n\\nAku merasa jatuh cinta padanya\\nMeski tak pernah berjumpa\\nIngin rasanya ku memiliki dirinya\\nDalam dunia nyata\\nSeutuhnya sesungguhnya selamanya\\n\\nTak sadar aku terjebak\\nIlusi di dalam otak\\nTak sanggup aku menahan\\nTak kuasa aku melawan\\nGejolak perasaan\\nBertemu di kenyataan\\nBukan sekedar dan khayalan\\n\\nAku merasa jatuh cinta padanya\\nMeski tak pernah berjumpa\\nIngin rasanya ku memiliki dirinya\\nDalam dunia nyata\\n\\nAku merasa jatuh cinta padanya\\nMeski tak pernah berjumpa\\nIngin rasanya ku memiliki dirinya\\nDalam dunia nyata\\nSeutuhnya sesungguhnya selamanya'}}\n",
      "{'id': 46, 'distance': 0.3183915615081787, 'entity': {'title': 'Gajah', 'artist': 'Tulus', 'lyric': 'Setidaknya punya tujuh puluh tahun\\nTak bisa melompat kumahir berenang\\nBahagia melihat kawanan betina\\nBerkumpul bersama sampai ajal\\nBesar dan berani berperang sendiri\\nYang aku hindari hanya semut kecil\\nOtak ini cerdas kurakit perangkat\\nWajahmu tak akan pernah kulupa\\nWaktu kecil dulu\\nMereka menertawakan\\nMereka panggilku gajah\\nKu marah ku marah\\nKini baru ku tahu\\nPuji didalam olokan\\nMereka ingatku marah\\nJabat tanganku panggil aku gajah\\nKau temanku kau doakan aku\\nPunya otak cerdas aku harus tangguh\\nBila jatuh gajah lain membantu\\nTubuhmu disituasi rela jadi tamengku\\nKecil kita tak tahu apa-apa\\nWajar bila terlalu cepat marah\\nKecil kita tak tahu apa-apa\\nYang terburuk kelak bisa jadi yang terbaik\\nYang terburuk kelak bisa jadi yang terbaik\\nKau temanku kau doakan aku\\nPunya otak cerdas aku harus tangguh\\nBila jatuh gajah lain membantu\\nTubuhmu disituasi rela jadi tamengku\\nKau temanku kau doakan aku\\nPunya otak cerdas aku harus tangguh\\nBila jatuh gajah lain membantu\\nTubuhmu disituasi rela jadi tamengku'}}\n",
      "{'id': 303, 'distance': 0.30548474192619324, 'entity': {'title': 'Teman Hidup', 'artist': 'Tulus', 'lyric': 'Dia indah meretas gundah\\nDia yang selama ini ku nanti\\nPembawa sejuk, pemanja rasa\\nDia yang selalu ada untukku\\n\\nDi dekatnya aku lebih tenang\\nBersamanya jalan lebih terang\\n\\nTetaplah bersamaku jadi teman hidupku\\nBerdua kita hadapi dunia\\nKau milikku milikmu kita satukan tuju\\nBersama arungi derasnya waktu\\n\\nKau milikku, ku milikmu\\nKau milikku, ku milikmu\\n\\nDi dekatnya aku lebih tenang\\nBersamanya jalan lebih terang\\n\\nTetaplah bersamaku jadi teman hidupku\\nBerdua kita hadapi dunia\\nKau milikku ku milikmu kita satukan tuju\\nBersama arungi derasnya waktu\\n\\nBila di depan nanti\\nBanyak cobaan untuk kisah cinta kita\\nJangan cepat menyerah\\nKau punya aku, ku punya kamu, selamanya akan begitu\\n\\nTetaplah bersamaku jadi teman hidupku\\nBerdua kita hadapi dunia\\nKau milikku ku milikmu kita satukan tuju\\nBersama arungi derasnya waktu\\n\\nKau milikku, ku milikmu\\nKau jiwa yang selalu aku puja..'}}\n"
     ]
    }
   ],
   "source": [
    "query_vectors = sentence_transformer_ef.encode_queries([\"lagu perjalanan\"])\n",
    "\n",
    "start_time = time.time()\n",
    "res = client.search(\n",
    "     collection_name=\"song_lyrics\",  # target collection\n",
    "     data=query_vectors,\n",
    "     filter=\"label like 'Bahagia' and artist in ['Ari Lasso','Budi Doremi','Tulus']\",\n",
    "     limit=20,  # number of returned entities\n",
    "     output_fields=[\"title\",\"artist\",\"lyric\"],  # specifies fields to be returned\n",
    "     )\n",
    "end_time = time.time()\n",
    "print(\"Search time:\", end_time - start_time)\n",
    "\n",
    "for i in res[0]:\n",
    "     print(i)"
   ]
  },
  {
   "cell_type": "code",
   "execution_count": 27,
   "metadata": {},
   "outputs": [
    {
     "name": "stdout",
     "output_type": "stream",
     "text": [
      "Search time: 0.003236055374145508\n",
      "{'id': 50, 'distance': 0.4115599989891052, 'entity': {'title': 'Monokrom', 'artist': 'Tulus', 'lyric': \"Lembaran foto hitam-putih\\nAku coba ingat lagi warna bajumu kala itu\\nKali pertama di hidupku\\nManusia lain memelukku\\nLembaran foto hitam-putih\\nAku coba ingat lagi wangi rumah di sore itu\\nKue cokelat, balon warna-warni\\nPesta hari ulang tahunku\\nDi mana pun kalian berada\\nKukirimkan terima kasih\\nUntuk warna dalam hidupku dan banyak kenangan indah\\nKau melukis aku\\nLembaran foto hitam-putih\\nKembali teringat malam, kuhitung-hitung bintang\\nSaat mataku sulit tidur, mm-mm\\nSuaramu buatku lelap, mm-mm\\nDi mana pun kalian berada\\nKukirimkan terima kasih\\nUntuk warna dalam hidupku dan banyak kenangan indah\\nKau melukis aku\\nKita tak pernah tahu\\nBerapa lama kita diberi waktu\\nJika aku pergi lebih dulu, jangan lupakan aku\\nIni lagu untukmu, ungkapan terima kasihku\\nLembar monokrom hitam-putih\\nAku coba ingat warna demi warna di hidupku\\nTak akan ku mengenal cinta\\nBila bukan kar'na hati baikmu\"}}\n",
      "{'id': 244, 'distance': 0.3353287875652313, 'entity': {'title': 'Dunia Maya', 'artist': 'Ari Lasso', 'lyric': 'Bertanya tanya tentang dirinya\\nKu cari-cari di dunia maya\\nKupandang profilenya kubaca statusnya\\nIngin aku mengenalnya\\n\\nAku berhasil menjadi temannya\\nWalau sebatas di social media\\nAku terbawa imaji tentangnya\\nCitra yang dibuatnya\\n\\nAku merasa jatuh cinta padanya\\nMeski tak pernah berjumpa\\nIngin rasanya ku memiliki dirinya\\nDalam dunia nyata\\nSeutuhnya sesungguhnya selamanya\\n\\nBertubi-tubi komentar di timeline nya\\nAku tak suka panas aku jadinya\\nAku cemburu terbakar hatiku\\nHilang sudah logika\\n\\nAku merasa jatuh cinta padanya\\nMeski tak pernah berjumpa\\nIngin rasanya ku memiliki dirinya\\nDalam dunia nyata\\nSeutuhnya sesungguhnya selamanya\\n\\nTak sadar aku terjebak\\nIlusi di dalam otak\\nTak sanggup aku menahan\\nTak kuasa aku melawan\\nGejolak perasaan\\nBertemu di kenyataan\\nBukan sekedar dan khayalan\\n\\nAku merasa jatuh cinta padanya\\nMeski tak pernah berjumpa\\nIngin rasanya ku memiliki dirinya\\nDalam dunia nyata\\n\\nAku merasa jatuh cinta padanya\\nMeski tak pernah berjumpa\\nIngin rasanya ku memiliki dirinya\\nDalam dunia nyata\\nSeutuhnya sesungguhnya selamanya'}}\n",
      "{'id': 46, 'distance': 0.3183915615081787, 'entity': {'title': 'Gajah', 'artist': 'Tulus', 'lyric': 'Setidaknya punya tujuh puluh tahun\\nTak bisa melompat kumahir berenang\\nBahagia melihat kawanan betina\\nBerkumpul bersama sampai ajal\\nBesar dan berani berperang sendiri\\nYang aku hindari hanya semut kecil\\nOtak ini cerdas kurakit perangkat\\nWajahmu tak akan pernah kulupa\\nWaktu kecil dulu\\nMereka menertawakan\\nMereka panggilku gajah\\nKu marah ku marah\\nKini baru ku tahu\\nPuji didalam olokan\\nMereka ingatku marah\\nJabat tanganku panggil aku gajah\\nKau temanku kau doakan aku\\nPunya otak cerdas aku harus tangguh\\nBila jatuh gajah lain membantu\\nTubuhmu disituasi rela jadi tamengku\\nKecil kita tak tahu apa-apa\\nWajar bila terlalu cepat marah\\nKecil kita tak tahu apa-apa\\nYang terburuk kelak bisa jadi yang terbaik\\nYang terburuk kelak bisa jadi yang terbaik\\nKau temanku kau doakan aku\\nPunya otak cerdas aku harus tangguh\\nBila jatuh gajah lain membantu\\nTubuhmu disituasi rela jadi tamengku\\nKau temanku kau doakan aku\\nPunya otak cerdas aku harus tangguh\\nBila jatuh gajah lain membantu\\nTubuhmu disituasi rela jadi tamengku'}}\n",
      "{'id': 303, 'distance': 0.30548474192619324, 'entity': {'title': 'Teman Hidup', 'artist': 'Tulus', 'lyric': 'Dia indah meretas gundah\\nDia yang selama ini ku nanti\\nPembawa sejuk, pemanja rasa\\nDia yang selalu ada untukku\\n\\nDi dekatnya aku lebih tenang\\nBersamanya jalan lebih terang\\n\\nTetaplah bersamaku jadi teman hidupku\\nBerdua kita hadapi dunia\\nKau milikku milikmu kita satukan tuju\\nBersama arungi derasnya waktu\\n\\nKau milikku, ku milikmu\\nKau milikku, ku milikmu\\n\\nDi dekatnya aku lebih tenang\\nBersamanya jalan lebih terang\\n\\nTetaplah bersamaku jadi teman hidupku\\nBerdua kita hadapi dunia\\nKau milikku ku milikmu kita satukan tuju\\nBersama arungi derasnya waktu\\n\\nBila di depan nanti\\nBanyak cobaan untuk kisah cinta kita\\nJangan cepat menyerah\\nKau punya aku, ku punya kamu, selamanya akan begitu\\n\\nTetaplah bersamaku jadi teman hidupku\\nBerdua kita hadapi dunia\\nKau milikku ku milikmu kita satukan tuju\\nBersama arungi derasnya waktu\\n\\nKau milikku, ku milikmu\\nKau jiwa yang selalu aku puja..'}}\n"
     ]
    }
   ],
   "source": [
    "search_params_optimized = {\"metric_type\": \"L2\", \"params\": {\"ef\": 100}}\n",
    "\n",
    "query_vectors = sentence_transformer_ef.encode_queries([\"lagu perjalanan\"])\n",
    "\n",
    "start_time = time.time()\n",
    "res = client.search(\n",
    "     collection_name=\"song_lyrics\",  # target collection\n",
    "     data=query_vectors,\n",
    "     filter=\"label like 'Bahagia' and artist in ['Ari Lasso','Budi Doremi','Tulus']\",\n",
    "     limit=20,  # number of returned entities\n",
    "     output_fields=[\"title\",\"artist\",\"lyric\"],  # specifies fields to be returned\n",
    "     params=search_params_optimized\n",
    "     )\n",
    "end_time = time.time()\n",
    "print(\"Search time:\", end_time - start_time)\n",
    "\n",
    "for i in res[0]:\n",
    "     print(i)"
   ]
  }
 ],
 "metadata": {
  "kernelspec": {
   "display_name": "Python 3",
   "language": "python",
   "name": "python3"
  },
  "language_info": {
   "codemirror_mode": {
    "name": "ipython",
    "version": 3
   },
   "file_extension": ".py",
   "mimetype": "text/x-python",
   "name": "python",
   "nbconvert_exporter": "python",
   "pygments_lexer": "ipython3",
   "version": "3.12.3"
  }
 },
 "nbformat": 4,
 "nbformat_minor": 2
}
